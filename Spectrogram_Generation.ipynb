{
 "cells": [
  {
   "cell_type": "code",
   "execution_count": 1,
   "id": "1aeab8f8-b8d0-4362-adf6-8c72c43e6789",
   "metadata": {},
   "outputs": [],
   "source": [
    "import librosa\n",
    "import librosa.display\n",
    "import matplotlib.pyplot as plt\n",
    "import os\n",
    "import pandas as pd\n",
    "import numpy as np"
   ]
  },
  {
   "cell_type": "code",
   "execution_count": 2,
   "id": "11a4f7f0-3c3f-42f5-afb5-947a597c6a69",
   "metadata": {},
   "outputs": [],
   "source": [
    "train_df = pd.read_csv(r'C:\\Users\\user\\Desktop\\birdclef-2022\\train_df_clean.csv')\n",
    "test_df = pd.read_csv(r'C:\\Users\\user\\Desktop\\birdclef-2022\\test_df_clean.csv')"
   ]
  },
  {
   "cell_type": "code",
   "execution_count": 3,
   "id": "e9a59f40-269f-4486-a89e-1f494976e13e",
   "metadata": {},
   "outputs": [],
   "source": [
    "def generate_spectrogram_image(audio_path, image_save_path, label):\n",
    "    y, sr = librosa.load(audio_path)\n",
    "    S = librosa.feature.melspectrogram(y=y, sr=sr)\n",
    "    S_dB = librosa.power_to_db(S, ref=np.max)\n",
    "    \n",
    "    plt.figure(figsize=(10, 4))\n",
    "    librosa.display.specshow(S_dB, sr=sr, x_axis='time', y_axis='mel')\n",
    "    plt.axis('off')  # Don't display axes for cleaner spectrogram images\n",
    "    plt.savefig(image_save_path, bbox_inches='tight', pad_inches=0)\n",
    "    plt.close()  # Close the plot to free up memory"
   ]
  },
  {
   "cell_type": "code",
   "execution_count": 4,
   "id": "e7f21f6a-6b9b-4e90-aa5c-7df18df12a17",
   "metadata": {},
   "outputs": [],
   "source": [
    "# Define the base path where we want to save the spectrogram images, organized by label\n",
    "spectrogram_base_path = r'C:\\Users\\user\\Desktop\\birdclef-2022\\spectrograms_train'\n",
    "\n",
    "for index, row in train_df.iterrows():\n",
    "    audio_path = row['path']  # Path to the .ogg file\n",
    "    label = row['primary_label']  # The label for the audio file\n",
    "    \n",
    "    # Create a directory for the label if it doesn't exist\n",
    "    label_dir_path = os.path.join(spectrogram_base_path, label)\n",
    "    if not os.path.exists(label_dir_path):\n",
    "        os.makedirs(label_dir_path)\n",
    "    \n",
    "    # Construct the filename for the spectrogram image\n",
    "    filename = os.path.basename(audio_path).replace('.ogg', '.png')\n",
    "    image_save_path = os.path.join(label_dir_path, filename)\n",
    "    \n",
    "    # Generate and save the spectrogram image\n",
    "    generate_spectrogram_image(audio_path, image_save_path, label)"
   ]
  },
  {
   "cell_type": "code",
   "execution_count": 5,
   "id": "9e839ab8-f23b-4f87-beaf-9833ac00bfc5",
   "metadata": {},
   "outputs": [],
   "source": [
    "spectrogram_base_path = r'C:\\Users\\user\\Desktop\\birdclef-2022\\spectrograms_test'\n",
    "\n",
    "for index, row in test_df.iterrows():\n",
    "    audio_path = row['path']  # Path to the .ogg file\n",
    "    label = row['primary_label']  # The label for the audio file\n",
    "    \n",
    "    # Create a directory for the label if it doesn't exist\n",
    "    label_dir_path = os.path.join(spectrogram_base_path, label)\n",
    "    if not os.path.exists(label_dir_path):\n",
    "        os.makedirs(label_dir_path)\n",
    "    \n",
    "    # Construct the filename for the spectrogram image\n",
    "    filename = os.path.basename(audio_path).replace('.ogg', '.png')\n",
    "    image_save_path = os.path.join(label_dir_path, filename)\n",
    "    \n",
    "    # Generate and save the spectrogram image\n",
    "    generate_spectrogram_image(audio_path, image_save_path, label)"
   ]
  },
  {
   "cell_type": "code",
   "execution_count": null,
   "id": "aa2fde06",
   "metadata": {},
   "outputs": [],
   "source": [
    "import random\n",
    "from PIL import Image\n",
    "\n",
    "def plot_spectrogram_samples(base_path, dataset_name, n_samples=5):\n",
    "    labels = os.listdir(base_path)\n",
    "\n",
    "    plt.figure(figsize=(15, 3 * n_samples))\n",
    "    \n",
    "    for i in range(n_samples):\n",
    "        label = random.choice(labels)\n",
    "        label_path = os.path.join(base_path, label)\n",
    "        \n",
    "        spectrogram_files = os.listdir(label_path)\n",
    "        \n",
    "        selected_file = random.choice(spectrogram_files)\n",
    "        image_path = os.path.join(label_path, selected_file)\n",
    "        \n",
    "        img = Image.open(image_path)\n",
    "        plt.subplot(n_samples, 1, i + 1)\n",
    "        plt.imshow(img)\n",
    "        plt.axis('off')\n",
    "        plt.title(f\"{dataset_name} Spectrogram: {label}\")\n",
    "\n",
    "    plt.tight_layout()\n",
    "    plt.show()\n",
    "\n",
    "spectrogram_base_path_train = r'C:\\Users\\user\\Desktop\\birdclef-2022\\spectrograms_train'\n",
    "plot_spectrogram_samples(spectrogram_base_path_train, \"Train\")\n",
    "\n",
    "spectrogram_base_path_test = r'C:\\Users\\user\\Desktop\\birdclef-2022\\spectrograms_test'\n",
    "plot_spectrogram_samples(spectrogram_base_path_test, \"Test\")\n"
   ]
  }
 ],
 "metadata": {
  "kernelspec": {
   "display_name": "deepml",
   "language": "python",
   "name": "python3"
  },
  "language_info": {
   "codemirror_mode": {
    "name": "ipython",
    "version": 3
   },
   "file_extension": ".py",
   "mimetype": "text/x-python",
   "name": "python",
   "nbconvert_exporter": "python",
   "pygments_lexer": "ipython3",
   "version": "3.10.13"
  }
 },
 "nbformat": 4,
 "nbformat_minor": 5
}
